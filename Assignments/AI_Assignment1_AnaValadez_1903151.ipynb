{
  "nbformat": 4,
  "nbformat_minor": 0,
  "metadata": {
    "colab": {
      "provenance": []
    },
    "kernelspec": {
      "name": "python3",
      "display_name": "Python 3"
    },
    "language_info": {
      "name": "python"
    }
  },
  "cells": [
    {
      "cell_type": "markdown",
      "source": [
        "# **A1: Python Exercises**\n",
        "\n",
        "---\n",
        "Ana Paola Valadez Estrada\n",
        "\n",
        "ID: 1903151\n",
        "\n",
        "AI thursday N4-N6\n"
      ],
      "metadata": {
        "id": "ZtcXsAge6Pkb"
      }
    },
    {
      "cell_type": "markdown",
      "source": [
        "Exercise 1:\n",
        "\n",
        "Create a python script where the user is going to be asked for the name. After that, the program will greet the user with the given name. Only exception: the script will not greet the user if the given name is \"Ana\", \"John\" or \"Peter\"."
      ],
      "metadata": {
        "id": "vK3pk0_U7HAP"
      }
    },
    {
      "cell_type": "code",
      "source": [
        "def user_name(name): #creates functions\n",
        "  name = input('User name: ') #defines variable for input\n",
        "  if (name == 'Ana'or name == 'John'or name == 'Peter'): #Conditioning the input\n",
        "    print('Error') #if name is not allowed defined output\n",
        "  else: \n",
        "    print('Welcome '+ name) #if is another name"
      ],
      "metadata": {
        "id": "zNc4EfT271io"
      },
      "execution_count": 86,
      "outputs": []
    },
    {
      "cell_type": "code",
      "source": [
        "user_name('Emilia')"
      ],
      "metadata": {
        "colab": {
          "base_uri": "https://localhost:8080/",
          "height": 0
        },
        "id": "0_KMu6Nu-UlM",
        "outputId": "32690ca4-84d3-4f0d-be64-59f6750a4196"
      },
      "execution_count": 84,
      "outputs": [
        {
          "output_type": "stream",
          "name": "stdout",
          "text": [
            "User name: Emilia\n",
            "Welcome Emilia\n"
          ]
        }
      ]
    },
    {
      "cell_type": "code",
      "source": [
        "user_name('Ana')\n",
        "user_name('John')\n",
        "user_name('Peter')"
      ],
      "metadata": {
        "colab": {
          "base_uri": "https://localhost:8080/",
          "height": 0
        },
        "id": "mnrAhoItE4tj",
        "outputId": "c767b574-9d03-4060-c456-dfaad41210cd"
      },
      "execution_count": 85,
      "outputs": [
        {
          "output_type": "stream",
          "name": "stdout",
          "text": [
            "User name: Ana\n",
            "Error\n",
            "User name: John\n",
            "Error\n",
            "User name: Peter\n",
            "Error\n"
          ]
        }
      ]
    },
    {
      "cell_type": "markdown",
      "source": [
        "Exercise 2:\n",
        "\n",
        "Create a function in a pyhton script that returns (print) the last element of a given list, reverts the order of the list and finally returns (print) the reverted list. "
      ],
      "metadata": {
        "id": "RWGtKxrz7Szr"
      }
    },
    {
      "cell_type": "code",
      "source": [
        "def excercise_2(lists): #defining function\n",
        "  print(lists[-1]) #print last element of the list\n",
        "  for x in reversed(lists): #reverse the elements in the list\n",
        "    print(x) #print reversed list"
      ],
      "metadata": {
        "id": "aDJRNS7qO-at"
      },
      "execution_count": null,
      "outputs": []
    },
    {
      "cell_type": "code",
      "source": [
        "ex1 = [2,4,6,8,10]\n",
        "\n",
        "excercise_2(ex1)"
      ],
      "metadata": {
        "colab": {
          "base_uri": "https://localhost:8080/"
        },
        "id": "7MS8T_nTPpGe",
        "outputId": "7d6ac275-a1a3-4df8-fda2-cb8ec3fa748d"
      },
      "execution_count": null,
      "outputs": [
        {
          "output_type": "stream",
          "name": "stdout",
          "text": [
            "10\n",
            "10\n",
            "8\n",
            "6\n",
            "4\n",
            "2\n"
          ]
        }
      ]
    },
    {
      "cell_type": "markdown",
      "source": [
        "Exercise 3:\n",
        "\n",
        "\n",
        "Create a function in a python script that takes a list of strings as input and then it prints, line by line, the whole list in a rectangular shape. E.g., the list could be [\"Hi\", \"my\", \"name\", \"is\", \"John\", \"Doe\"] and the final result is:\n",
        "\n",
        "\n",
        "**********\n",
        "\n",
        "* Hi        * \n",
        "\n",
        "* my       *\n",
        "\n",
        "* name   * \n",
        "\n",
        "* is         * \n",
        "\n",
        "* John    * \n",
        "\n",
        "* Doe     *\n",
        "\n",
        "**********\n"
      ],
      "metadata": {
        "id": "EqwG64Qj7Yyv"
      }
    },
    {
      "cell_type": "code",
      "source": [
        "def excercise_3(messages): #defining function\n",
        "  print(\"***********\") \n",
        "  for x in messages: #create a loop to read each line\n",
        "    while len(x) < 10:\n",
        "      count = 8 - len(x)\n",
        "      spaces = (' '*count)\n",
        "      print('* '+ x + spaces +'*')\n",
        "      break\n",
        "  print(\"***********\")"
      ],
      "metadata": {
        "id": "OjOs20V7Q35o"
      },
      "execution_count": 202,
      "outputs": []
    },
    {
      "cell_type": "code",
      "source": [
        "messages = ['Hi', 'my', 'name', 'is', 'Ana']\n",
        "excercise_3(messages)"
      ],
      "metadata": {
        "colab": {
          "base_uri": "https://localhost:8080/",
          "height": 0
        },
        "id": "Uko-HlQProlk",
        "outputId": "d7025923-6ab4-4515-e725-2b89d03c9366"
      },
      "execution_count": 203,
      "outputs": [
        {
          "output_type": "stream",
          "name": "stdout",
          "text": [
            "***********\n",
            "* Hi      *\n",
            "* my      *\n",
            "* name    *\n",
            "* is      *\n",
            "* Ana     *\n",
            "***********\n"
          ]
        }
      ]
    },
    {
      "cell_type": "markdown",
      "source": [
        "# **Conclusion**\n",
        "\n",
        "Python has become a staple in data science, allowing data analysts and other professionals to use the language to conduct complex statistical calculations, create data visualizations, build machine learning algorithms, manipulate and analyze data, and complete other data-related tasks. This activity helped me to understand how certain functions as 'if' and 'for' work."
      ],
      "metadata": {
        "id": "kA0gBZBp6GEj"
      }
    }
  ]
}