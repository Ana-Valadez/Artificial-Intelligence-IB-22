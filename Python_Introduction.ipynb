{
  "nbformat": 4,
  "nbformat_minor": 0,
  "metadata": {
    "colab": {
      "name": "Python_Introduction.ipynb",
      "provenance": [],
      "authorship_tag": "ABX9TyOd2aYNxYMLxUzJPFfHaGDZ",
      "include_colab_link": true
    },
    "kernelspec": {
      "name": "python3",
      "display_name": "Python 3"
    },
    "language_info": {
      "name": "python"
    }
  },
  "cells": [
    {
      "cell_type": "markdown",
      "metadata": {
        "id": "view-in-github",
        "colab_type": "text"
      },
      "source": [
        "<a href=\"https://colab.research.google.com/github/Ana-Valadez/Artificial-Intelligence-IB-22/blob/main/Python_Introduction.ipynb\" target=\"_parent\"><img src=\"https://colab.research.google.com/assets/colab-badge.svg\" alt=\"Open In Colab\"/></a>"
      ]
    },
    {
      "cell_type": "markdown",
      "source": [
        "# ***Python introduction *** \n",
        "\n",
        "In this notebook we will learn the basic Python programming language with basic concepts and functions.\n",
        "\n",
        "\n",
        "\n",
        "```\n",
        "# print(\"hello world\")\n",
        "```\n",
        "\n",
        "*   Creado por Guido Van Rossem en 1991\n",
        "*   Utilizado en distintas aplicaciones\n",
        "*   Sintaxis sencilla\n",
        "\n",
        "\n",
        "\n"
      ],
      "metadata": {
        "id": "DLRXq9VWmWAN"
      }
    },
    {
      "cell_type": "code",
      "execution_count": 2,
      "metadata": {
        "colab": {
          "base_uri": "https://localhost:8080/"
        },
        "id": "170ZxuvZl9sy",
        "outputId": "9b7dc4c2-dbea-4519-fbfd-5308cf059ae1"
      },
      "outputs": [
        {
          "output_type": "stream",
          "name": "stdout",
          "text": [
            "hello world!\n"
          ]
        }
      ],
      "source": [
        "print(\"hello world!\")"
      ]
    },
    {
      "cell_type": "markdown",
      "source": [
        "Para generar comentarios en el codigo se hace uso de: #\n",
        "\n",
        "La segunda opcion es con \"\"\"comment\"\"\" usado para comentarios multilineas"
      ],
      "metadata": {
        "id": "CtSXV2wcpL_y"
      }
    },
    {
      "cell_type": "code",
      "source": [
        "if 5>2: \n",
        "  #uso de condicional \"if\"\n",
        "  print(\"Five is greater than two\")"
      ],
      "metadata": {
        "colab": {
          "base_uri": "https://localhost:8080/"
        },
        "id": "UBa708zFolws",
        "outputId": "56dfe4bf-e98c-4c30-e4f0-be4fe509bdf5"
      },
      "execution_count": 5,
      "outputs": [
        {
          "output_type": "stream",
          "name": "stdout",
          "text": [
            "Five is greater than two\n"
          ]
        }
      ]
    },
    {
      "cell_type": "markdown",
      "source": [
        "*Variables*\n",
        "\n",
        "No es necasario declararlas solo es necesario dterminar un valor para cada una de estas.\n",
        "\n",
        "type nos permite conocer el tipo de dato que se le da a una variable.\n",
        "\n",
        "concatenar nos permite unir dos cadenas de caracteres"
      ],
      "metadata": {
        "id": "jYO9DZ8Kp2Ho"
      }
    },
    {
      "cell_type": "code",
      "source": [
        "x = 10\n",
        "y = \"Ana\"\n",
        "z = False\n",
        "print(x)\n",
        "print(y)\n",
        "print(z)\n",
        "type(x)"
      ],
      "metadata": {
        "colab": {
          "base_uri": "https://localhost:8080/"
        },
        "id": "9JLIZAqSqY3Y",
        "outputId": "867da983-8883-48d3-8231-4c4feae0fb14"
      },
      "execution_count": 6,
      "outputs": [
        {
          "output_type": "stream",
          "name": "stdout",
          "text": [
            "10\n",
            "Ana\n",
            "False\n"
          ]
        },
        {
          "output_type": "execute_result",
          "data": {
            "text/plain": [
              "int"
            ]
          },
          "metadata": {},
          "execution_count": 6
        }
      ]
    },
    {
      "cell_type": "code",
      "source": [
        "x = \"Ana\"\n",
        "y = \"Valadez\"\n",
        "print(x + \" \" + y)"
      ],
      "metadata": {
        "colab": {
          "base_uri": "https://localhost:8080/"
        },
        "id": "DM64KcMhqz83",
        "outputId": "0b66b8c5-8a19-4ebf-da5a-0d495002a860"
      },
      "execution_count": 8,
      "outputs": [
        {
          "output_type": "stream",
          "name": "stdout",
          "text": [
            "Ana Valadez\n"
          ]
        }
      ]
    },
    {
      "cell_type": "markdown",
      "source": [
        "*Tipo de datos*"
      ],
      "metadata": {
        "id": "5tz_LawDrbQH"
      }
    },
    {
      "cell_type": "markdown",
      "source": [
        "La funcion len nos permite conocer el numero de caracteres que hay en una cadena de caracteres."
      ],
      "metadata": {
        "id": "ElV-_rYas6P9"
      }
    }
  ]
}